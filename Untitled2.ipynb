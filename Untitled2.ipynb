{
  "nbformat": 4,
  "nbformat_minor": 0,
  "metadata": {
    "colab": {
      "name": "Untitled2.ipynb",
      "provenance": [],
      "include_colab_link": true
    },
    "kernelspec": {
      "name": "python3",
      "display_name": "Python 3"
    }
  },
  "cells": [
    {
      "cell_type": "markdown",
      "metadata": {
        "id": "view-in-github",
        "colab_type": "text"
      },
      "source": [
        "<a href=\"https://colab.research.google.com/github/Mgrinet/classificador-roupas/blob/master/Untitled2.ipynb\" target=\"_parent\"><img src=\"https://colab.research.google.com/assets/colab-badge.svg\" alt=\"Open In Colab\"/></a>"
      ]
    },
    {
      "cell_type": "markdown",
      "metadata": {
        "id": "CSjQKc4gA5ZY",
        "colab_type": "text"
      },
      "source": [
        "#Classificafor de roupas utilizando Fashion-MNIST"
      ]
    },
    {
      "cell_type": "code",
      "metadata": {
        "id": "29wdd9PjA5ly",
        "colab_type": "code",
        "colab": {}
      },
      "source": [
        "# Importando as bibliotecas\n",
        "from keras.datasets import fashion_mnist\n",
        "from keras.utils import to_categorical\n",
        "from keras.models import Sequential\n",
        "from keras.layers import Conv2D\n",
        "from keras.layers import MaxPooling2D\n",
        "from keras.layers import Dense\n",
        "from keras.layers import Flatten\n",
        "from keras.optimizers import SGD"
      ],
      "execution_count": 0,
      "outputs": []
    },
    {
      "cell_type": "code",
      "metadata": {
        "id": "TQvwwI7aA5uS",
        "colab_type": "code",
        "colab": {}
      },
      "source": [
        "# Funcao para carregar o dataset e separar em treino e teste\n",
        "def load_dataset():\n",
        "\t# Carregar dataset\n",
        "\t(trainX, trainY), (testX, testY) = fashion_mnist.load_data()\n",
        "\t# Reshape do dataset para apenas um canal\n",
        "\ttrainX = trainX.reshape((trainX.shape[0], 28, 28, 1))\n",
        "\ttestX = testX.reshape((testX.shape[0], 28, 28, 1))\n",
        "\t# Aplicar one hot encoder nos labels utilizando metodo to_categorical()\n",
        "\ttrainY = to_categorical(trainY)\n",
        "\ttestY = to_categorical(testY)\n",
        "\treturn trainX, trainY, testX, testY"
      ],
      "execution_count": 0,
      "outputs": []
    },
    {
      "cell_type": "code",
      "metadata": {
        "id": "hTt2bU-_A521",
        "colab_type": "code",
        "colab": {}
      },
      "source": [
        "# Escalonar valor dos pixels\n",
        "def prep_pixels(train, test):\n",
        "\t# Converter de ints para floats\n",
        "\ttrain_norm = train.astype('float32')\n",
        "\ttest_norm = test.astype('float32')\n",
        "\t# Escalonar  valores entre 0 e 1\n",
        "\ttrain_norm = train_norm / 255.0\n",
        "\ttest_norm = test_norm / 255.0\n",
        "\t# Retornar imagens com pixels Escalonados\n",
        "\treturn train_norm, test_norm"
      ],
      "execution_count": 0,
      "outputs": []
    },
    {
      "cell_type": "code",
      "metadata": {
        "id": "26ZoflvxhvU9",
        "colab_type": "code",
        "colab": {}
      },
      "source": [
        "trainY.shape"
      ],
      "execution_count": 0,
      "outputs": []
    },
    {
      "cell_type": "code",
      "metadata": {
        "id": "RrBYzCt4A_hg",
        "colab_type": "code",
        "colab": {}
      },
      "source": [
        "# Criando o modelo (basico)\n",
        "def define_model():\n",
        "\tmodel = Sequential()\n",
        "  # Tentar mudar as camadas mais tarde para ver como isso afeta o desempenho do modelo\n",
        "\tmodel.add(Conv2D(32, (3, 3), activation='relu', kernel_initializer='he_uniform', input_shape=(28, 28, 1))) # documentacao do initializer: https://keras.io/initializers/\n",
        "  # Camada de maxpooling para reuzir dimensionalidade\n",
        "\tmodel.add(MaxPooling2D((2, 2)))\n",
        "  # Flatten para conseguir pegar output bidimensional e inserir em uma camada densa (unidimensional)\n",
        "\tmodel.add(Flatten())\n",
        "\tmodel.add(Dense(100, activation='relu', kernel_initializer='he_uniform'))\n",
        "  # Ultima camada densa com as 10 classes\n",
        "\tmodel.add(Dense(10, activation='softmax'))\n",
        "\t# Compilar modelo\n",
        "\topt = SGD(lr=0.01, momentum=0.9)\n",
        "\tmodel.compile(optimizer=opt, loss='categorical_crossentropy', metrics=['accuracy'])\n",
        "  # Por que nao usamos?\n",
        "  #model.compile(optimizer='adam', loss='sparse_categorical_crossentropy', metrics=['accuracy'])\n",
        "\treturn model"
      ],
      "execution_count": 0,
      "outputs": []
    },
    {
      "cell_type": "code",
      "metadata": {
        "id": "Oz99I6fRBBDd",
        "colab_type": "code",
        "colab": {}
      },
      "source": [
        "# Rodar as funcoes e avaliar desempenho do modelo\n",
        "def run_model():\n",
        "\t# Dataset\n",
        "\ttrainX, trainY, testX, testY = load_dataset()\n",
        "\t# Data prep\n",
        "\ttrainX, testX = prep_pixels(trainX, testX)\n",
        "\t# Modelo\n",
        "\tmodel = define_model()\n",
        "\t# Fit do modelo\n",
        "\tmodel.fit(trainX, trainY, epochs=10, batch_size=32, verbose=0)\n",
        "\t# Salvar modelo\n",
        "\tmodel.save('final_model.h5')\n",
        "  # Avaliar modelo no dataset de teste\n",
        "\t_, acc = model.evaluate(testX, testY, verbose=0)\n",
        "\tprint('> %.3f' % (acc * 100.0))\n",
        "\n",
        "# Chamando a funcao principal\n",
        "run_model()"
      ],
      "execution_count": 0,
      "outputs": []
    },
    {
      "cell_type": "markdown",
      "metadata": {
        "id": "eWDfqoiODk_c",
        "colab_type": "text"
      },
      "source": [
        "## Testando o Modelo com Imagens Novas"
      ]
    },
    {
      "cell_type": "markdown",
      "metadata": {
        "id": "_YYnqVFnDtzw",
        "colab_type": "text"
      },
      "source": [
        "### Primeiro precisamos preparar a imagem nova para inserir no modelo"
      ]
    },
    {
      "cell_type": "code",
      "metadata": {
        "id": "4iXmdxt1DgbC",
        "colab_type": "code",
        "colab": {}
      },
      "source": [
        "from keras.preprocessing.image import load_img\n",
        "from keras.preprocessing.image import img_to_array\n",
        "from keras.models import load_model\n",
        "\n",
        "# Carregar e preparar a imagem\n",
        "def load_image(filename):\n",
        "\t# Carregando a imagem\n",
        "\timg = load_img(filename, grayscale=True, target_size=(28, 28))\n",
        "\t# Converter para array\n",
        "\timg = img_to_array(img)\n",
        "\t# reshape para 1 canal\n",
        "\timg = img.reshape(1, 28, 28, 1)\n",
        "\t# preparar valores de pixel\n",
        "\timg = img.astype('float32')\n",
        "\timg = img / 255.0\n",
        "\treturn img\n",
        "\n",
        "# Prever classe da imagem\n",
        "def run_example():\n",
        "\t# Carregando imagem\n",
        "\timg = load_image('sample_image.png')\n",
        "\t# Carregando modelo\n",
        "\tmodel = load_model('final_model.h5')\n",
        "\t# Previsao da classe\n",
        "\tresult = model.predict_classes(img)\n",
        "\tprint(result[0])\n",
        "\n",
        "\n",
        "#run_example()"
      ],
      "execution_count": 0,
      "outputs": []
    }
  ]
}